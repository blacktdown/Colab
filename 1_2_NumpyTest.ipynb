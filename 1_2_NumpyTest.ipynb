{
  "nbformat": 4,
  "nbformat_minor": 0,
  "metadata": {
    "colab": {
      "name": "1_2.NumpyTest.ipynb",
      "provenance": [],
      "collapsed_sections": [],
      "authorship_tag": "ABX9TyOD1UtgaYIuv4gCFIeNJACz",
      "include_colab_link": true
    },
    "kernelspec": {
      "name": "python3",
      "display_name": "Python 3"
    }
  },
  "cells": [
    {
      "cell_type": "markdown",
      "metadata": {
        "id": "view-in-github",
        "colab_type": "text"
      },
      "source": [
        "<a href=\"https://colab.research.google.com/github/blacktdown/colab/blob/main/1_2_NumpyTest.ipynb\" target=\"_parent\"><img src=\"https://colab.research.google.com/assets/colab-badge.svg\" alt=\"Open In Colab\"/></a>"
      ]
    },
    {
      "cell_type": "code",
      "metadata": {
        "id": "pQzQqW73HpRV"
      },
      "source": [
        "\"\"\"\r\n",
        "날짜 : 2021/02/01\r\n",
        "이름 : 박준우\r\n",
        "내용 : 파이썬 Numpy 수치해석 라이브러리 실습하기\r\n",
        "\"\"\""
      ],
      "execution_count": null,
      "outputs": []
    },
    {
      "cell_type": "code",
      "metadata": {
        "id": "Ay2ckKSlH-yr"
      },
      "source": [
        "import numpy as np"
      ],
      "execution_count": null,
      "outputs": []
    },
    {
      "cell_type": "code",
      "metadata": {
        "colab": {
          "base_uri": "https://localhost:8080/"
        },
        "id": "cKABxmnmIG8j",
        "outputId": "9cecad83-e649-4750-ef6d-9ed21133b99c"
      },
      "source": [
        "#numpy 자료구조 - 벡터\r\n",
        "v1 = np.array([1,2,3,4,5])\r\n",
        "v2 = np.arange(5)\r\n",
        "v3 = np.arange(10)\r\n",
        "\r\n",
        "print('v1 : ', v1)\r\n",
        "print('v2 : ', v2)\r\n",
        "print('v3 : ', v3)"
      ],
      "execution_count": null,
      "outputs": [
        {
          "output_type": "stream",
          "text": [
            "v1 :  [1 2 3 4 5]\n",
            "v2 :  [0 1 2 3 4]\n",
            "v3 :  [0 1 2 3 4 5 6 7 8 9]\n"
          ],
          "name": "stdout"
        }
      ]
    },
    {
      "cell_type": "code",
      "metadata": {
        "id": "6oJSE3GoIjHj"
      },
      "source": [
        "#0 ~ 1사이에 임의의 실수 100개\r\n",
        "rand1 = np.random.rand(100)\r\n",
        "\r\n",
        "#표준정규분포를 따르는 실수 100개\r\n",
        "rand2 = np.random.randn(100)\r\n",
        "\r\n",
        "#0 ~ 9사이의 임의의 정수\r\n",
        "rand3 = np.random.randint(10)"
      ],
      "execution_count": null,
      "outputs": []
    },
    {
      "cell_type": "code",
      "metadata": {
        "colab": {
          "base_uri": "https://localhost:8080/"
        },
        "id": "vrqsH5lKI4_T",
        "outputId": "41b14767-e5c5-4dc5-f698-c7f61662cc1f"
      },
      "source": [
        "rand1"
      ],
      "execution_count": null,
      "outputs": [
        {
          "output_type": "execute_result",
          "data": {
            "text/plain": [
              "array([0.27512901, 0.72105818, 0.36045934, 0.21504121, 0.63933305,\n",
              "       0.31657121, 0.70851458, 0.97472911, 0.36501144, 0.54310942,\n",
              "       0.23342932, 0.83838263, 0.11766721, 0.1795399 , 0.40952483,\n",
              "       0.36494026, 0.49760957, 0.52955093, 0.1298011 , 0.77223753,\n",
              "       0.54180476, 0.33053841, 0.1948244 , 0.59824405, 0.16570694,\n",
              "       0.10583106, 0.37692098, 0.57979767, 0.3888405 , 0.45811343,\n",
              "       0.4084095 , 0.71291081, 0.83193124, 0.31405497, 0.02681895,\n",
              "       0.59506083, 0.93772625, 0.44993965, 0.4888562 , 0.25857273,\n",
              "       0.94919242, 0.37347975, 0.38910508, 0.46150527, 0.58679745,\n",
              "       0.42359933, 0.33530778, 0.97510724, 0.18152913, 0.17745199,\n",
              "       0.99963744, 0.63526671, 0.09925288, 0.18571952, 0.46352562,\n",
              "       0.29333619, 0.08807119, 0.52515836, 0.34957616, 0.64951602,\n",
              "       0.09119459, 0.01688283, 0.21005181, 0.29508528, 0.8992211 ,\n",
              "       0.67652135, 0.95750862, 0.36205357, 0.15369009, 0.87058461,\n",
              "       0.53534652, 0.2479783 , 0.42585998, 0.03936836, 0.87730072,\n",
              "       0.50665591, 0.18363909, 0.0191857 , 0.1465627 , 0.6557647 ,\n",
              "       0.46167636, 0.70065741, 0.19821393, 0.69432302, 0.29355467,\n",
              "       0.77674745, 0.5348325 , 0.98132003, 0.96122559, 0.20013433,\n",
              "       0.21970715, 0.8891306 , 0.8325132 , 0.09345265, 0.85819478,\n",
              "       0.97440132, 0.22968372, 0.32299223, 0.03433759, 0.17244475])"
            ]
          },
          "metadata": {
            "tags": []
          },
          "execution_count": 10
        }
      ]
    },
    {
      "cell_type": "code",
      "metadata": {
        "colab": {
          "base_uri": "https://localhost:8080/"
        },
        "id": "O_clegQ5I5r7",
        "outputId": "f7d24740-2590-481d-819f-e8b43aee31d9"
      },
      "source": [
        "rand2"
      ],
      "execution_count": null,
      "outputs": [
        {
          "output_type": "execute_result",
          "data": {
            "text/plain": [
              "array([ 2.13128254, -1.00643629,  0.3718624 , -0.26665664,  0.84735577,\n",
              "        2.01508446,  1.60483069, -1.40757199, -0.41984654,  0.69181136,\n",
              "        2.22207702,  0.3874341 ,  0.54753142,  0.69265979,  0.7080508 ,\n",
              "       -1.99918154, -1.89621554,  0.52750724,  0.7263053 , -0.11378697,\n",
              "        1.20280012,  1.65989262,  0.69898458,  0.36724121,  0.50507392,\n",
              "       -1.10557093,  1.16782397, -0.24728462, -0.52383643, -0.8254717 ,\n",
              "        0.76919312,  0.75748707, -1.85205962,  0.10750427,  1.78821957,\n",
              "       -1.42750264,  0.09788013,  1.2060385 , -0.43654607, -1.16890373,\n",
              "       -0.7732189 ,  0.15335399, -0.330942  ,  0.75348352, -0.96104146,\n",
              "        0.04697092,  0.03571247,  0.36198249,  1.45868442, -0.01522124,\n",
              "       -1.38488372, -0.918827  , -0.14788167,  1.10369124, -1.3218797 ,\n",
              "       -0.77066083,  0.63457722,  0.74159301, -0.85972291,  1.40404994,\n",
              "       -0.77699619,  0.57986308, -0.23911749,  0.61996606, -0.52071404,\n",
              "        0.21279382,  1.27853483,  0.17626199, -1.23582823,  1.11573075,\n",
              "       -1.29356483,  1.52038832, -1.45402208, -1.19518872, -0.50465445,\n",
              "        0.94472794,  1.81332182,  0.56950119,  0.68770369, -0.52008821,\n",
              "       -0.19681609,  0.91904995,  0.69617526,  0.65320911, -1.0388409 ,\n",
              "       -1.40469056, -0.20047086, -0.71783325, -1.20113785,  0.6079592 ,\n",
              "       -0.30898794, -0.10324006, -0.25852613, -1.3573378 ,  1.35437557,\n",
              "        1.29635961, -1.93692685,  0.22030854,  0.58730421,  0.79571947])"
            ]
          },
          "metadata": {
            "tags": []
          },
          "execution_count": 11
        }
      ]
    },
    {
      "cell_type": "code",
      "metadata": {
        "colab": {
          "base_uri": "https://localhost:8080/"
        },
        "id": "RcY1jdTQI6yT",
        "outputId": "2218de55-093e-46ef-c0eb-cee0b5071df1"
      },
      "source": [
        "rand3"
      ],
      "execution_count": null,
      "outputs": [
        {
          "output_type": "execute_result",
          "data": {
            "text/plain": [
              "6"
            ]
          },
          "metadata": {
            "tags": []
          },
          "execution_count": 12
        }
      ]
    },
    {
      "cell_type": "code",
      "metadata": {
        "colab": {
          "base_uri": "https://localhost:8080/"
        },
        "id": "m1L2EpPLI8n7",
        "outputId": "ba270216-4065-4af5-8582-637cd7fc130b"
      },
      "source": [
        "#행렬\r\n",
        "m1 = np.array([[1, 2], [3, 4]])\r\n",
        "print(m1)\r\n",
        "\r\n",
        "m2 = np.array([[1, 2, 3], [4, 5, 6], [7, 8, 9]])\r\n",
        "print(m2)\r\n",
        "\r\n",
        "m3 = np.ones([2, 4])\r\n",
        "print(m3)\r\n",
        "\r\n",
        "m4 = np.zeros([3, 2])\r\n",
        "print(m4)"
      ],
      "execution_count": null,
      "outputs": [
        {
          "output_type": "stream",
          "text": [
            "[[1 2]\n",
            " [3 4]]\n",
            "[[1 2 3]\n",
            " [4 5 6]\n",
            " [7 8 9]]\n",
            "[[1. 1. 1. 1.]\n",
            " [1. 1. 1. 1.]]\n",
            "[[0. 0.]\n",
            " [0. 0.]\n",
            " [0. 0.]]\n"
          ],
          "name": "stdout"
        }
      ]
    },
    {
      "cell_type": "code",
      "metadata": {
        "colab": {
          "base_uri": "https://localhost:8080/"
        },
        "id": "i3fGW_AzKf9D",
        "outputId": "3c327e48-2556-48eb-b152-2a3018d93e8c"
      },
      "source": [
        "#전차행렬\r\n",
        "tm1 = m1.T\r\n",
        "print(tm1)\r\n",
        "\r\n",
        "tm2 = m2.transpose()\r\n",
        "print(tm2)"
      ],
      "execution_count": null,
      "outputs": [
        {
          "output_type": "stream",
          "text": [
            "[[1 3]\n",
            " [2 4]]\n",
            "[[1 4 7]\n",
            " [2 5 8]\n",
            " [3 6 9]]\n"
          ],
          "name": "stdout"
        }
      ]
    },
    {
      "cell_type": "code",
      "metadata": {
        "colab": {
          "base_uri": "https://localhost:8080/"
        },
        "id": "YyzdlRZTKuUL",
        "outputId": "e92068a9-1c34-4162-fd7f-3ded4e491c5a"
      },
      "source": [
        "#단위행렬\r\n",
        "e1 = np.identity(2)\r\n",
        "print(e1)\r\n",
        "\r\n",
        "e2 = np.identity(3)\r\n",
        "print(e2)"
      ],
      "execution_count": null,
      "outputs": [
        {
          "output_type": "stream",
          "text": [
            "[[1. 0.]\n",
            " [0. 1.]]\n",
            "[[1. 0. 0.]\n",
            " [0. 1. 0.]\n",
            " [0. 0. 1.]]\n"
          ],
          "name": "stdout"
        }
      ]
    },
    {
      "cell_type": "code",
      "metadata": {
        "colab": {
          "base_uri": "https://localhost:8080/"
        },
        "id": "Rmt2vZ31LJ4z",
        "outputId": "6e3cb0fa-9085-4662-c7d2-f5dcd33343ec"
      },
      "source": [
        "#행렬 인덱싱\r\n",
        "mat = np.array([[1, 2, 3, 4], [5, 6, 7, 8], [9, 10, 11, 12]])\r\n",
        "print(mat)\r\n",
        "\r\n",
        "print(mat[0, 0])\r\n",
        "print(mat[0, :])\r\n",
        "print(mat[:, 0])\r\n",
        "\r\n",
        "print(mat[0:2, 0:2])\r\n",
        "print(mat[:, 0:2])\r\n",
        "print(mat[:, 2:4])\r\n",
        "print(mat[1:3, 1:3])"
      ],
      "execution_count": null,
      "outputs": [
        {
          "output_type": "stream",
          "text": [
            "[[ 1  2  3  4]\n",
            " [ 5  6  7  8]\n",
            " [ 9 10 11 12]]\n",
            "1\n",
            "[1 2 3 4]\n",
            "[1 5 9]\n",
            "[[1 2]\n",
            " [5 6]]\n",
            "[[ 1  2]\n",
            " [ 5  6]\n",
            " [ 9 10]]\n",
            "[[ 3  4]\n",
            " [ 7  8]\n",
            " [11 12]]\n",
            "[[ 6  7]\n",
            " [10 11]]\n"
          ],
          "name": "stdout"
        }
      ]
    }
  ]
}